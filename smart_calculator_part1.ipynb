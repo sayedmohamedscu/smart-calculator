{
  "nbformat": 4,
  "nbformat_minor": 0,
  "metadata": {
    "colab": {
      "name": "smart calculator part1.ipynb",
      "version": "0.3.2",
      "provenance": [],
      "include_colab_link": true
    },
    "kernelspec": {
      "name": "python3",
      "display_name": "Python 3"
    },
    "accelerator": "GPU"
  },
  "cells": [
    {
      "cell_type": "markdown",
      "metadata": {
        "id": "view-in-github",
        "colab_type": "text"
      },
      "source": [
        "<a href=\"https://colab.research.google.com/github/sayedmohamedscu/smart-calculator/blob/master/smart_calculator_part1.ipynb\" target=\"_parent\"><img src=\"https://colab.research.google.com/assets/colab-badge.svg\" alt=\"Open In Colab\"/></a>"
      ]
    },
    {
      "metadata": {
        "id": "rL_RUtGSgb6t",
        "colab_type": "code",
        "colab": {}
      },
      "cell_type": "code",
      "source": [
        "!mkdir .kaggle\n",
        "!mkdir .s\n",
        "#os.chdir(\"/content/gdrive/My Drive/\")"
      ],
      "execution_count": 0,
      "outputs": []
    },
    {
      "metadata": {
        "id": "K0pQJ5-GTxrf",
        "colab_type": "code",
        "colab": {}
      },
      "cell_type": "code",
      "source": [
        "import zipfile, urllib.request, shutil\n",
        "\n",
        "url = 'http://benchmark.ini.rub.de/Dataset/GTSRB_Final_Training_Images.zip'\n",
        "file_name = 'myzip.zip'\n",
        "\n",
        "with urllib.request.urlopen(url) as response, open(file_name, 'wb') as out_file:\n",
        "    shutil.copyfileobj(response, out_file)\n",
        "    with zipfile.ZipFile(file_name) as zf:\n",
        "        zf.extractall()\n"
      ],
      "execution_count": 0,
      "outputs": []
    },
    {
      "metadata": {
        "id": "KkoP0JsbWh5y",
        "colab_type": "code",
        "colab": {}
      },
      "cell_type": "code",
      "source": [
        "url = 'http://www.isy.liu.se/cvl/research/trafficSigns/swedishSignsSummer/Set1/Set1Part0.zip'\n",
        "target_path = 'alaska.zip'\n",
        "\n",
        "response = requests.get(url, stream=True)\n",
        "handle = open(target_path, \"wb\")\n",
        "for chunk in response.iter_content(chunk_size=512):\n",
        "    if chunk:  # filter out keep'alive new chunks\n",
        "        handle.write(chunk)\n",
        "handle.close()"
      ],
      "execution_count": 0,
      "outputs": []
    },
    {
      "metadata": {
        "id": "ZYNWGjD8U_bg",
        "colab_type": "code",
        "outputId": "b5316e29-ce54-4a7a-af6d-736a84eacc8d",
        "colab": {
          "base_uri": "https://localhost:8080/",
          "height": 68
        }
      },
      "cell_type": "code",
      "source": [
        "!unzip 'qq /content/myzip.zip"
      ],
      "execution_count": 0,
      "outputs": [
        {
          "output_type": "stream",
          "text": [
            "replace GTSRB/Final_Training/Images/00000/00000_00000.ppm? [y]es, [n]o, [A]ll, [N]one, [r]ename: r\n",
            "new name: ann\n",
            "replace GTSRB/Final_Training/Images/00000/00000_00001.ppm? [y]es, [n]o, [A]ll, [N]one, [r]ename: A\n"
          ],
          "name": "stdout"
        }
      ]
    },
    {
      "metadata": {
        "id": "DWkFnlEZg196",
        "colab_type": "code",
        "outputId": "9bd78688-07ee-408a-aef2-cdc72397b8ca",
        "colab": {
          "base_uri": "https://localhost:8080/",
          "height": 34
        }
      },
      "cell_type": "code",
      "source": [
        "import json\n",
        "token = {\"username\":\"tesla2\",\"key\":\"2e88d384a9e1fa7950bfae00ad07e151\"}\n",
        "with open(\"/content/.s/kaggle.json\", \"w\") as file:\n",
        "    json.dump(token, file)\n",
        "!ls"
      ],
      "execution_count": 0,
      "outputs": [
        {
          "output_type": "stream",
          "text": [
            "kaggle.json  sample_data\n"
          ],
          "name": "stdout"
        }
      ]
    },
    {
      "metadata": {
        "id": "anMhkTy3g_jn",
        "colab_type": "code",
        "colab": {}
      },
      "cell_type": "code",
      "source": [
        "!chmod 600 /content/.s/kaggle.json"
      ],
      "execution_count": 0,
      "outputs": []
    },
    {
      "metadata": {
        "id": "FPFAfokWhCTI",
        "colab_type": "code",
        "colab": {}
      },
      "cell_type": "code",
      "source": [
        "!cp /content/.s/kaggle.json ~/.kaggle/kaggle.json"
      ],
      "execution_count": 0,
      "outputs": []
    },
    {
      "metadata": {
        "id": "dfbv8NaThFqb",
        "colab_type": "code",
        "outputId": "c2dd508d-b557-4220-d01a-8e41ebcf3735",
        "colab": {
          "base_uri": "https://localhost:8080/",
          "height": 34
        }
      },
      "cell_type": "code",
      "source": [
        "!kaggle config set -n path -v{/content}"
      ],
      "execution_count": 0,
      "outputs": [
        {
          "output_type": "stream",
          "text": [
            "- path is now set to: {/content}\n"
          ],
          "name": "stdout"
        }
      ]
    },
    {
      "metadata": {
        "id": "Nxi2Xayrhaef",
        "colab_type": "code",
        "outputId": "5d8e94a6-2612-45e2-afec-d4823b5f9bc1",
        "colab": {
          "base_uri": "https://localhost:8080/",
          "height": 68
        }
      },
      "cell_type": "code",
      "source": [
        "!kaggle datasets download -d xainano/handwrittenmathsymbols -p /content "
      ],
      "execution_count": 0,
      "outputs": [
        {
          "output_type": "stream",
          "text": [
            "Downloading handwrittenmathsymbols.zip to /content\n",
            " 99% 260M/262M [00:02<00:00, 161MB/s]\n",
            "100% 262M/262M [00:02<00:00, 135MB/s]\n"
          ],
          "name": "stdout"
        }
      ]
    },
    {
      "metadata": {
        "id": "FITw0AkLhkeO",
        "colab_type": "code",
        "colab": {}
      },
      "cell_type": "code",
      "source": [
        "!unzip -qq /content/handwrittenmathsymbols.zip"
      ],
      "execution_count": 0,
      "outputs": []
    },
    {
      "metadata": {
        "id": "sJbrcyABLqw4",
        "colab_type": "text"
      },
      "cell_type": "markdown",
      "source": [
        ""
      ]
    },
    {
      "metadata": {
        "id": "bmBPj7QpL3vG",
        "colab_type": "code",
        "outputId": "71c100d4-7a4f-481e-ac4a-952da8554750",
        "colab": {
          "base_uri": "https://localhost:8080/",
          "height": 207
        }
      },
      "cell_type": "code",
      "source": [
        "!pip install patool\n",
        "import patoolib\n",
        "patoolib.extract_archive(\"/content/data.rar\", outdir=\"/content/\")\n",
        "#rar = rarfile.RarFile('/content/data.rar')"
      ],
      "execution_count": 0,
      "outputs": [
        {
          "output_type": "stream",
          "text": [
            "Collecting patool\n",
            "\u001b[?25l  Downloading https://files.pythonhosted.org/packages/43/94/52243ddff508780dd2d8110964320ab4851134a55ab102285b46e740f76a/patool-1.12-py2.py3-none-any.whl (77kB)\n",
            "\u001b[K    100% |████████████████████████████████| 81kB 3.1MB/s \n",
            "\u001b[?25hInstalling collected packages: patool\n",
            "Successfully installed patool-1.12\n",
            "patool: Extracting /content/data.rar ...\n",
            "patool: running /usr/bin/unrar x -- /content/data.rar\n",
            "patool:     with cwd='/content/'\n",
            "patool: ... /content/data.rar extracted to `/content/'.\n"
          ],
          "name": "stdout"
        },
        {
          "output_type": "execute_result",
          "data": {
            "text/plain": [
              "'/content/'"
            ]
          },
          "metadata": {
            "tags": []
          },
          "execution_count": 16
        }
      ]
    },
    {
      "metadata": {
        "id": "TFKHTCJ3hxLD",
        "colab_type": "code",
        "outputId": "7c2b6ce9-296d-43e1-c65e-a035c60f79a2",
        "colab": {
          "base_uri": "https://localhost:8080/",
          "height": 54
        }
      },
      "cell_type": "code",
      "source": [
        "!unzip -qq /content/content/data.rar"
      ],
      "execution_count": 0,
      "outputs": [
        {
          "output_type": "stream",
          "text": [
            "unzip:  cannot find or open /content/content/data.rar, /content/content/data.rar.zip or /content/content/data.rar.ZIP.\n"
          ],
          "name": "stdout"
        }
      ]
    },
    {
      "metadata": {
        "id": "RZXKLCZDhOLE",
        "colab_type": "code",
        "outputId": "fbe5d471-cd94-43c5-bed7-2e7d995bb2b7",
        "colab": {
          "base_uri": "https://localhost:8080/",
          "height": 34
        }
      },
      "cell_type": "code",
      "source": [
        "from keras.preprocessing import image\n",
        "import cv2\n",
        "import os\n",
        "import numpy as np\n",
        "#del image\n",
        "import time "
      ],
      "execution_count": 0,
      "outputs": [
        {
          "output_type": "stream",
          "text": [
            "Using TensorFlow backend.\n"
          ],
          "name": "stderr"
        }
      ]
    },
    {
      "metadata": {
        "id": "kDXRAIlGh85T",
        "colab_type": "code",
        "outputId": "375ff9e7-14fc-4236-e0e8-61b1ab6f9530",
        "colab": {
          "base_uri": "https://localhost:8080/",
          "height": 969
        }
      },
      "cell_type": "code",
      "source": [
        "#!pip install timepy\n",
        "import os\n",
        "import numpy as np\n",
        "from keras.preprocessing.image import ImageDataGenerator\n",
        "Images = []\n",
        "Labels = []\n",
        "m=[]\n",
        "n=0\n",
        "label=0\n",
        "for labels in os.listdir('/content/extracted_images'):\n",
        "    i=0\n",
        "    if labels == '!' :\n",
        "        label= 0\n",
        "    elif labels == '(' :\n",
        "        label= 1\n",
        "    elif labels == ')' :\n",
        "        label= 2\n",
        "    elif labels == '+' :\n",
        "        label= 3\n",
        "    elif labels == ',' :\n",
        "        label= 4\n",
        "    elif labels == '-' :\n",
        "        label= 5\n",
        "    elif labels == '0' :\n",
        "        label= 6\n",
        "    elif labels == '1' :\n",
        "        label= 7\n",
        "    elif labels == '2' :\n",
        "        label= 8\n",
        "    elif labels == '3' :\n",
        "        label= 9\n",
        "    elif labels == '4' :\n",
        "        label= 10\n",
        "    elif labels == '5' :\n",
        "        label= 11\n",
        "    elif labels == '6' :\n",
        "        label= 12\n",
        "    elif labels == '7' :\n",
        "        label= 13\n",
        "    elif labels == '8' :\n",
        "        label= 14\n",
        "    elif labels == '9' :\n",
        "        label= 15\n",
        "    elif labels == '=' :\n",
        "        label= 16\n",
        "    elif labels == 'A' :\n",
        "        label= 17\n",
        "    elif labels == 'alpha' :\n",
        "        label= 18\n",
        "    elif labels == 'ascii_124' :\n",
        "        label= 19\n",
        "    elif labels == 'b' :\n",
        "        label= 20\n",
        "    elif labels == 'beta' :\n",
        "        label= 21\n",
        "    elif labels == 'C' :\n",
        "        label= 22\n",
        "    elif labels == 'cos' :\n",
        "        label= 23\n",
        "    elif labels == 'd' :\n",
        "        label= 24\n",
        "    elif labels == 'Delta' :\n",
        "        label= 25\n",
        "    elif labels == 'div' :\n",
        "        label= 26\n",
        "    elif labels == 'e' :\n",
        "        label= 27\n",
        "    elif labels == 'exists' :\n",
        "        label= 28\n",
        "    elif labels == 'f' :\n",
        "        label= 29\n",
        "    elif labels == 'forall' :\n",
        "        label= 30\n",
        "    elif labels == 'forward_slash' :\n",
        "        label= 31\n",
        "    elif labels == 'G' :\n",
        "        label= 32\n",
        "    elif labels == 'gamma' :\n",
        "        label= 33\n",
        "    elif labels == 'geq' :\n",
        "        label= 34\n",
        "\n",
        "\n",
        "    elif labels == 'in' :\n",
        "        label= 35\n",
        "    elif labels == 'infty' :\n",
        "        label= 36\n",
        "\n",
        "    elif labels == 'lim' :\n",
        "        label= 37\n",
        "    elif labels == 'log' :\n",
        "        label= 38\n",
        "    elif labels == 'lt' :\n",
        "        label= 39\n",
        "    elif labels == 'M' :\n",
        "        label= 40\n",
        "    elif labels == 'mu' :\n",
        "        label= 41\n",
        "    elif labels == 'N' :\n",
        "        label= 42\n",
        "    elif labels == 'neq' :\n",
        "        label= 43\n",
        "    elif labels == 'o' :\n",
        "        label= 44\n",
        "    elif labels == 'p' :\n",
        "        label= 45\n",
        "    elif labels == 'phi' :\n",
        "        label= 46\n",
        "    elif labels == 'pi' :\n",
        "        label= 47\n",
        "    elif labels == 'pm' :\n",
        "        label= 48\n",
        "    elif labels == 'prime' :\n",
        "        label= 49\n",
        "    elif labels == 'sin' :\n",
        "        label= 50\n",
        "    elif labels == 'sqrt' :\n",
        "        label= 51\n",
        "    elif labels == 'sum' :\n",
        "        label= 52\n",
        "\n",
        "    elif labels == 'tan' :\n",
        "        label= 53\n",
        "    elif labels == 'theta' :\n",
        "        label= 53\n",
        "\n",
        "    elif labels == 'X' :\n",
        "        label= 54\n",
        "    elif labels == 'y' :\n",
        "        label= 55\n",
        "    \n",
        "    \n",
        "    if label not in m:\n",
        "        m.append(label)\n",
        "        #print (label)\n",
        "        n=n+1\n",
        "        print(n,label)\n",
        "\n",
        "        for image_file in os.listdir('/content/extracted_images/'+labels):\n",
        "            img_path='/content/extracted_images/'+labels+r'/'+image_file\n",
        "            #img_path=str(img_path)\n",
        "            i=i+1\n",
        "            if i <3000:\n",
        "\n",
        "                image = cv2.imread(img_path,0) #Reading the image (OpenCV)\n",
        "                #images = image.load_img(img_path, target_size=(45, 45))\n",
        "                image = cv2.resize(image,(45,45))\n",
        "                imagen = np.array(image)\n",
        "                imagen=imagen/255\n",
        "\n",
        "\n",
        "\n",
        "                Images.append(imagen)\n",
        "                Labels.append(label)\n"
      ],
      "execution_count": 0,
      "outputs": [
        {
          "output_type": "stream",
          "text": [
            "1 0\n",
            "2 47\n",
            "3 31\n",
            "4 18\n",
            "5 2\n",
            "6 5\n",
            "7 1\n",
            "8 17\n",
            "9 39\n",
            "10 8\n",
            "11 7\n",
            "12 10\n",
            "13 13\n",
            "14 9\n",
            "15 51\n",
            "16 23\n",
            "17 11\n",
            "18 3\n",
            "19 21\n",
            "20 37\n",
            "21 48\n",
            "22 40\n",
            "23 19\n",
            "24 33\n",
            "25 55\n",
            "26 38\n",
            "27 52\n",
            "28 43\n",
            "29 34\n",
            "30 29\n",
            "31 14\n",
            "32 16\n",
            "33 24\n",
            "34 6\n",
            "35 22\n",
            "36 35\n",
            "37 50\n",
            "38 42\n",
            "39 49\n",
            "40 15\n",
            "41 26\n",
            "42 44\n",
            "43 53\n",
            "44 54\n",
            "45 27\n",
            "46 36\n",
            "47 45\n",
            "48 25\n",
            "49 30\n",
            "50 32\n",
            "51 41\n",
            "52 20\n",
            "53 46\n",
            "54 28\n",
            "55 12\n",
            "56 4\n"
          ],
          "name": "stdout"
        }
      ]
    },
    {
      "metadata": {
        "id": "aG32NpxMEVHf",
        "colab_type": "code",
        "outputId": "26542247-05db-43a5-b06f-ed5832c6bd5d",
        "colab": {
          "base_uri": "https://localhost:8080/",
          "height": 34
        }
      },
      "cell_type": "code",
      "source": [
        "from sklearn.utils import shuffle\n",
        "\n",
        "shuffle(Images,Labels,random_state=817328462)\n",
        "print(\"ok\")"
      ],
      "execution_count": 0,
      "outputs": [
        {
          "output_type": "stream",
          "text": [
            "ok\n"
          ],
          "name": "stdout"
        }
      ]
    },
    {
      "metadata": {
        "id": "dWpmKtvWFIEj",
        "colab_type": "code",
        "colab": {}
      },
      "cell_type": "code",
      "source": [
        "Images = np.array(Images) #converting the list of images to numpy array.\n",
        "Labels = np.array(Labels)"
      ],
      "execution_count": 0,
      "outputs": []
    },
    {
      "metadata": {
        "id": "HacNXgzBQ-8P",
        "colab_type": "code",
        "outputId": "2cf45b87-5707-4363-a9b3-891ccc5ba543",
        "colab": {
          "base_uri": "https://localhost:8080/",
          "height": 34
        }
      },
      "cell_type": "code",
      "source": [
        "print(y_train.shape)"
      ],
      "execution_count": 0,
      "outputs": [
        {
          "output_type": "stream",
          "text": [
            "(80367,)\n"
          ],
          "name": "stdout"
        }
      ]
    },
    {
      "metadata": {
        "id": "PklnAR_VTOGI",
        "colab_type": "code",
        "colab": {}
      },
      "cell_type": "code",
      "source": [
        "Images=Images.reshape(114810, 45, 45,1)"
      ],
      "execution_count": 0,
      "outputs": []
    },
    {
      "metadata": {
        "id": "DVtK3qwTFbsW",
        "colab_type": "code",
        "colab": {}
      },
      "cell_type": "code",
      "source": [
        "from sklearn.model_selection import train_test_split\n",
        "X_train, X_test, y_train, y_test = train_test_split(Images, Labels, test_size=0.3, random_state=42)"
      ],
      "execution_count": 0,
      "outputs": []
    },
    {
      "metadata": {
        "id": "QDy2MSxbFwW1",
        "colab_type": "code",
        "colab": {}
      },
      "cell_type": "code",
      "source": [
        "del (Labels,Images)"
      ],
      "execution_count": 0,
      "outputs": []
    },
    {
      "metadata": {
        "id": "kiE9tigWRUeQ",
        "colab_type": "code",
        "colab": {}
      },
      "cell_type": "code",
      "source": [
        "if K.image_data_format() == 'channels_first':\n",
        "    X_train = X_train.reshape(X_train.shape[0], 1, 45, 45)\n",
        "    X_test = X_test.reshape(X_test.shape[0], 1, 45, 45)\n",
        "    input_shape = (1, 45, 45)\n",
        "    \n",
        "else:\n",
        "    X_train = X_train.reshape(X_train.shape[0], 45, 45, 1)\n",
        "    X_test = X_test.reshape(X_test.shape[0], 45, 45,1)\n",
        "    input_shape = (45, 45,1)"
      ],
      "execution_count": 0,
      "outputs": []
    },
    {
      "metadata": {
        "id": "7fh68FXZGSCz",
        "colab_type": "code",
        "colab": {}
      },
      "cell_type": "code",
      "source": [
        "from __future__ import print_function\n",
        "import keras\n",
        "from keras.models import Sequential\n",
        "from keras.layers import Dense, Dropout, Flatten\n",
        "from keras.layers import Conv2D, MaxPooling2D\n",
        "from keras import backend as K\n"
      ],
      "execution_count": 0,
      "outputs": []
    },
    {
      "metadata": {
        "id": "9f2EU57EGI3Q",
        "colab_type": "code",
        "colab": {}
      },
      "cell_type": "code",
      "source": [
        "y_train = keras.utils.to_categorical(y_train, 56)\n",
        "y_test = keras.utils.to_categorical(y_test, 56)"
      ],
      "execution_count": 0,
      "outputs": []
    },
    {
      "metadata": {
        "id": "fJY6AEfUGWOW",
        "colab_type": "code",
        "colab": {}
      },
      "cell_type": "code",
      "source": [
        "X_train= X_train.astype('float32')"
      ],
      "execution_count": 0,
      "outputs": []
    },
    {
      "metadata": {
        "id": "5TAydLLwV3FP",
        "colab_type": "code",
        "colab": {}
      },
      "cell_type": "code",
      "source": [
        "X_test=X_test.astype('float32')"
      ],
      "execution_count": 0,
      "outputs": []
    },
    {
      "metadata": {
        "id": "4UQiR4V8V_Lj",
        "colab_type": "code",
        "outputId": "d27a8e52-b473-441c-ac78-a8090b8ede34",
        "colab": {
          "base_uri": "https://localhost:8080/",
          "height": 34
        }
      },
      "cell_type": "code",
      "source": [
        "print(X_test.shape)"
      ],
      "execution_count": 0,
      "outputs": [
        {
          "output_type": "stream",
          "text": [
            "(34443, 45, 45, 1)\n"
          ],
          "name": "stdout"
        }
      ]
    },
    {
      "metadata": {
        "id": "i1pnWkZqWIr6",
        "colab_type": "code",
        "colab": {}
      },
      "cell_type": "code",
      "source": [
        "y_train=y_train.astype('float32')\n",
        "y_test=y_test.astype('float32')"
      ],
      "execution_count": 0,
      "outputs": []
    },
    {
      "metadata": {
        "id": "No8rsJHaWflh",
        "colab_type": "code",
        "colab": {}
      },
      "cell_type": "code",
      "source": [
        "from __future__ import print_function\n",
        "import keras\n",
        "from keras.datasets import mnist\n",
        "from keras.models import Sequential\n",
        "from keras.layers import Dense, Dropout, Flatten\n",
        "from keras.layers import Conv2D, MaxPooling2D\n",
        "from keras import backend as K"
      ],
      "execution_count": 0,
      "outputs": []
    },
    {
      "metadata": {
        "id": "cMbBvuEfWqdS",
        "colab_type": "code",
        "outputId": "1de21206-6c49-4faa-f148-fe440d227b7d",
        "colab": {
          "base_uri": "https://localhost:8080/",
          "height": 530
        }
      },
      "cell_type": "code",
      "source": [
        "model = Sequential()\n",
        "model.add(Conv2D(32, kernel_size=(3, 3),\n",
        "                 activation='relu',\n",
        "                 input_shape=(45,45,1)))\n",
        "model.add(Conv2D(64, (3, 3), activation='relu'))\n",
        "model.add(MaxPooling2D(pool_size=(2, 2)))\n",
        "model.add(Dropout(0.25))\n",
        "model.add(Flatten())\n",
        "model.add(Dense(128, activation='relu'))\n",
        "model.add(Dropout(0.5))\n",
        "model.add(Dense(56, activation='softmax'))\n",
        "\n",
        "model.compile(loss=keras.losses.categorical_crossentropy,\n",
        "              optimizer=keras.optimizers.Adadelta(),\n",
        "              metrics=['accuracy'])\n",
        "model.summary()"
      ],
      "execution_count": 0,
      "outputs": [
        {
          "output_type": "stream",
          "text": [
            "WARNING:tensorflow:From /usr/local/lib/python3.6/dist-packages/tensorflow/python/framework/op_def_library.py:263: colocate_with (from tensorflow.python.framework.ops) is deprecated and will be removed in a future version.\n",
            "Instructions for updating:\n",
            "Colocations handled automatically by placer.\n",
            "WARNING:tensorflow:From /usr/local/lib/python3.6/dist-packages/keras/backend/tensorflow_backend.py:3445: calling dropout (from tensorflow.python.ops.nn_ops) with keep_prob is deprecated and will be removed in a future version.\n",
            "Instructions for updating:\n",
            "Please use `rate` instead of `keep_prob`. Rate should be set to `rate = 1 - keep_prob`.\n",
            "_________________________________________________________________\n",
            "Layer (type)                 Output Shape              Param #   \n",
            "=================================================================\n",
            "conv2d_1 (Conv2D)            (None, 43, 43, 32)        320       \n",
            "_________________________________________________________________\n",
            "conv2d_2 (Conv2D)            (None, 41, 41, 64)        18496     \n",
            "_________________________________________________________________\n",
            "max_pooling2d_1 (MaxPooling2 (None, 20, 20, 64)        0         \n",
            "_________________________________________________________________\n",
            "dropout_1 (Dropout)          (None, 20, 20, 64)        0         \n",
            "_________________________________________________________________\n",
            "flatten_1 (Flatten)          (None, 25600)             0         \n",
            "_________________________________________________________________\n",
            "dense_1 (Dense)              (None, 128)               3276928   \n",
            "_________________________________________________________________\n",
            "dropout_2 (Dropout)          (None, 128)               0         \n",
            "_________________________________________________________________\n",
            "dense_2 (Dense)              (None, 56)                7224      \n",
            "=================================================================\n",
            "Total params: 3,302,968\n",
            "Trainable params: 3,302,968\n",
            "Non-trainable params: 0\n",
            "_________________________________________________________________\n"
          ],
          "name": "stdout"
        }
      ]
    },
    {
      "metadata": {
        "id": "hZN0HMftXK_J",
        "colab_type": "code",
        "outputId": "e5cc6eb7-6dd6-4484-aa66-2a44f7a7032b",
        "colab": {
          "base_uri": "https://localhost:8080/",
          "height": 819
        }
      },
      "cell_type": "code",
      "source": [
        "model.fit(X_train, y_train,\n",
        "          batch_size=100,\n",
        "          epochs=20,\n",
        "          verbose=1,\n",
        "          validation_data=(X_test, y_test))\n",
        "score = model.evaluate(X_test, y_test, verbose=0)\n",
        "print('Test loss:', score[0])\n",
        "print('Test accuracy:', score[1])\n",
        "model.save('/content/gdrive/My Drive/calculatornew.h5')\n"
      ],
      "execution_count": 0,
      "outputs": [
        {
          "output_type": "stream",
          "text": [
            "WARNING:tensorflow:From /usr/local/lib/python3.6/dist-packages/tensorflow/python/ops/math_ops.py:3066: to_int32 (from tensorflow.python.ops.math_ops) is deprecated and will be removed in a future version.\n",
            "Instructions for updating:\n",
            "Use tf.cast instead.\n",
            "Train on 80367 samples, validate on 34443 samples\n",
            "Epoch 1/20\n",
            "80367/80367 [==============================] - 21s 260us/step - loss: 1.3464 - acc: 0.6441 - val_loss: 0.4010 - val_acc: 0.8871\n",
            "Epoch 2/20\n",
            "80367/80367 [==============================] - 15s 187us/step - loss: 0.5583 - acc: 0.8392 - val_loss: 0.2731 - val_acc: 0.9205\n",
            "Epoch 3/20\n",
            "80367/80367 [==============================] - 15s 189us/step - loss: 0.4014 - acc: 0.8801 - val_loss: 0.2075 - val_acc: 0.9389\n",
            "Epoch 4/20\n",
            "80367/80367 [==============================] - 15s 192us/step - loss: 0.3217 - acc: 0.9021 - val_loss: 0.1745 - val_acc: 0.9492\n",
            "Epoch 5/20\n",
            "80367/80367 [==============================] - 15s 192us/step - loss: 0.2748 - acc: 0.9159 - val_loss: 0.1568 - val_acc: 0.9541\n",
            "Epoch 6/20\n",
            "80367/80367 [==============================] - 15s 192us/step - loss: 0.2458 - acc: 0.9229 - val_loss: 0.1592 - val_acc: 0.9555\n",
            "Epoch 7/20\n",
            "80367/80367 [==============================] - 15s 193us/step - loss: 0.2235 - acc: 0.9301 - val_loss: 0.1346 - val_acc: 0.9616\n",
            "Epoch 8/20\n",
            "80367/80367 [==============================] - 15s 191us/step - loss: 0.2096 - acc: 0.9346 - val_loss: 0.1292 - val_acc: 0.9627\n",
            "Epoch 9/20\n",
            "80367/80367 [==============================] - 15s 192us/step - loss: 0.1964 - acc: 0.9374 - val_loss: 0.1312 - val_acc: 0.9630\n",
            "Epoch 10/20\n",
            "80367/80367 [==============================] - 15s 192us/step - loss: 0.1863 - acc: 0.9422 - val_loss: 0.1234 - val_acc: 0.9658\n",
            "Epoch 11/20\n",
            "80367/80367 [==============================] - 15s 190us/step - loss: 0.1802 - acc: 0.9443 - val_loss: 0.1383 - val_acc: 0.9659\n",
            "Epoch 12/20\n",
            "80367/80367 [==============================] - 15s 190us/step - loss: 0.1815 - acc: 0.9443 - val_loss: 0.1235 - val_acc: 0.9675\n",
            "Epoch 13/20\n",
            "80367/80367 [==============================] - 15s 190us/step - loss: 0.1731 - acc: 0.9470 - val_loss: 0.1293 - val_acc: 0.9663\n",
            "Epoch 14/20\n",
            "80367/80367 [==============================] - 15s 192us/step - loss: 0.1681 - acc: 0.9478 - val_loss: 0.1224 - val_acc: 0.9687\n",
            "Epoch 15/20\n",
            "80367/80367 [==============================] - 15s 190us/step - loss: 0.1699 - acc: 0.9473 - val_loss: 0.1096 - val_acc: 0.9699\n",
            "Epoch 16/20\n",
            "80367/80367 [==============================] - 15s 189us/step - loss: 0.1640 - acc: 0.9499 - val_loss: 0.1170 - val_acc: 0.9701\n",
            "Epoch 17/20\n",
            "80367/80367 [==============================] - 15s 189us/step - loss: 0.1692 - acc: 0.9490 - val_loss: 0.1361 - val_acc: 0.9684\n",
            "Epoch 18/20\n",
            "80367/80367 [==============================] - 15s 189us/step - loss: 0.1697 - acc: 0.9498 - val_loss: 0.1376 - val_acc: 0.9688\n",
            "Epoch 19/20\n",
            "80367/80367 [==============================] - 15s 191us/step - loss: 0.1613 - acc: 0.9513 - val_loss: 0.1138 - val_acc: 0.9707\n",
            "Epoch 20/20\n",
            "80367/80367 [==============================] - 15s 190us/step - loss: 0.1647 - acc: 0.9505 - val_loss: 0.1114 - val_acc: 0.9709\n",
            "Test loss: 0.11137272402372085\n",
            "Test accuracy: 0.9709084574514415\n"
          ],
          "name": "stdout"
        }
      ]
    },
    {
      "metadata": {
        "id": "suiCu9Mst4Ug",
        "colab_type": "text"
      },
      "cell_type": "markdown",
      "source": [
        "# **make** **predection**"
      ]
    },
    {
      "metadata": {
        "id": "8x_KDMvFXc29",
        "colab_type": "code",
        "outputId": "f34ca4d3-ce59-4b2c-bfe7-1b94dcee5d63",
        "colab": {
          "base_uri": "https://localhost:8080/",
          "height": 221
        }
      },
      "cell_type": "code",
      "source": [
        "im=cv2.imread('/content/exp1.jpg',0)\n",
        "img=im/255\n",
        "\n",
        "img = np.array(img)\n",
        "img=img.reshape(1,45,45,1)\n",
        "out=model.predict(img)\n",
        "print((out))"
      ],
      "execution_count": 0,
      "outputs": [
        {
          "output_type": "stream",
          "text": [
            "[[1.4338537e-24 1.5235067e-18 1.3242107e-19 2.4792334e-18 1.9183822e-13\n",
            "  6.8713123e-25 2.3098279e-15 4.3221906e-14 2.8042184e-09 1.8137293e-17\n",
            "  4.2927372e-14 2.5001479e-17 1.0784650e-14 6.6066056e-20 9.6892812e-08\n",
            "  1.5923289e-16 1.0943121e-22 5.6316007e-10 7.6209267e-07 7.5170389e-17\n",
            "  6.0072760e-09 1.8411779e-13 2.4984579e-19 1.4204189e-15 4.9223825e-13\n",
            "  8.7287269e-12 1.6390138e-22 1.2161160e-13 4.2324844e-14 8.4319352e-15\n",
            "  1.3571530e-11 2.0971909e-14 2.9973608e-15 7.9774895e-07 2.1586760e-14\n",
            "  1.4600263e-14 3.4732217e-11 5.0518234e-14 4.7296548e-14 3.9260097e-12\n",
            "  1.0862386e-12 2.0458617e-09 1.3146341e-09 1.4625073e-17 2.1247363e-20\n",
            "  3.1551337e-14 1.0485901e-12 2.5561092e-10 8.7911591e-17 1.1811994e-11\n",
            "  4.8519013e-14 1.9433161e-19 3.6530327e-13 1.6925362e-14 9.9999201e-01\n",
            "  6.3635371e-06]]\n"
          ],
          "name": "stdout"
        }
      ]
    }
  ]
}